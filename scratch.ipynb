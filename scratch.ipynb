{
 "cells": [
  {
   "cell_type": "code",
   "execution_count": 1,
   "id": "d20faff2",
   "metadata": {},
   "outputs": [
    {
     "name": "stdout",
     "output_type": "stream",
     "text": [
      "Defaulting to user installation because normal site-packages is not writeable\n",
      "Requirement already satisfied: pandas in /home/vscode/.local/lib/python3.11/site-packages (2.3.1)\n",
      "Requirement already satisfied: polars in /home/vscode/.local/lib/python3.11/site-packages (1.31.0)\n",
      "Requirement already satisfied: numpy in /home/vscode/.local/lib/python3.11/site-packages (2.3.1)\n",
      "Requirement already satisfied: treys in /home/vscode/.local/lib/python3.11/site-packages (0.1.8)\n",
      "Requirement already satisfied: python-dateutil>=2.8.2 in /home/vscode/.local/lib/python3.11/site-packages (from pandas) (2.9.0.post0)\n",
      "Requirement already satisfied: pytz>=2020.1 in /home/vscode/.local/lib/python3.11/site-packages (from pandas) (2025.2)\n",
      "Requirement already satisfied: tzdata>=2022.7 in /home/vscode/.local/lib/python3.11/site-packages (from pandas) (2025.2)\n",
      "Requirement already satisfied: six>=1.5 in /home/vscode/.local/lib/python3.11/site-packages (from python-dateutil>=2.8.2->pandas) (1.17.0)\n",
      "\n",
      "\u001b[1m[\u001b[0m\u001b[34;49mnotice\u001b[0m\u001b[1;39;49m]\u001b[0m\u001b[39;49m A new release of pip is available: \u001b[0m\u001b[31;49m24.0\u001b[0m\u001b[39;49m -> \u001b[0m\u001b[32;49m25.2\u001b[0m\n",
      "\u001b[1m[\u001b[0m\u001b[34;49mnotice\u001b[0m\u001b[1;39;49m]\u001b[0m\u001b[39;49m To update, run: \u001b[0m\u001b[32;49mpip install --upgrade pip\u001b[0m\n"
     ]
    }
   ],
   "source": [
    "!pip install pandas polars numpy treys"
   ]
  },
  {
   "cell_type": "code",
   "execution_count": 2,
   "id": "2ef8db27",
   "metadata": {},
   "outputs": [],
   "source": [
    "import polars as pl\n",
    "import random"
   ]
  },
  {
   "cell_type": "code",
   "execution_count": 3,
   "id": "8206df16",
   "metadata": {},
   "outputs": [
    {
     "ename": "KeyboardInterrupt",
     "evalue": "",
     "output_type": "error",
     "traceback": [
      "\u001b[31m---------------------------------------------------------------------------\u001b[39m",
      "\u001b[31mKeyboardInterrupt\u001b[39m                         Traceback (most recent call last)",
      "\u001b[36mCell\u001b[39m\u001b[36m \u001b[39m\u001b[32mIn[3]\u001b[39m\u001b[32m, line 56\u001b[39m\n\u001b[32m     54\u001b[39m     player_hand = get_random_hand(full_deck)\n\u001b[32m     55\u001b[39m     flop = get_random_flop(full_deck)\n\u001b[32m---> \u001b[39m\u001b[32m56\u001b[39m     equity = \u001b[43msimulate_equity_vs_5\u001b[49m\u001b[43m(\u001b[49m\u001b[43mplayer_hand\u001b[49m\u001b[43m,\u001b[49m\u001b[43m \u001b[49m\u001b[43mflop\u001b[49m\u001b[43m,\u001b[49m\u001b[43m \u001b[49m\u001b[43mnum_simulations\u001b[49m\u001b[43m=\u001b[49m\u001b[32;43m500\u001b[39;49m\u001b[43m)\u001b[49m\n\u001b[32m     58\u001b[39m     problems.append({\n\u001b[32m     59\u001b[39m         \u001b[33m\"\u001b[39m\u001b[33mPlayerCard1\u001b[39m\u001b[33m\"\u001b[39m: card_to_str(player_hand[\u001b[32m0\u001b[39m]),\n\u001b[32m     60\u001b[39m         \u001b[33m\"\u001b[39m\u001b[33mPlayerCard2\u001b[39m\u001b[33m\"\u001b[39m: card_to_str(player_hand[\u001b[32m1\u001b[39m]),\n\u001b[32m   (...)\u001b[39m\u001b[32m     64\u001b[39m         \u001b[33m\"\u001b[39m\u001b[33mEquityPercent\u001b[39m\u001b[33m\"\u001b[39m: equity\n\u001b[32m     65\u001b[39m     })\n\u001b[32m     67\u001b[39m df = pd.DataFrame(problems)\n",
      "\u001b[36mCell\u001b[39m\u001b[36m \u001b[39m\u001b[32mIn[3]\u001b[39m\u001b[32m, line 20\u001b[39m, in \u001b[36msimulate_equity_vs_5\u001b[39m\u001b[34m(player_hand, flop, num_simulations)\u001b[39m\n\u001b[32m     18\u001b[39m \u001b[38;5;28;01mfor\u001b[39;00m _ \u001b[38;5;129;01min\u001b[39;00m \u001b[38;5;28mrange\u001b[39m(num_simulations):\n\u001b[32m     19\u001b[39m     deck = \u001b[38;5;28mlist\u001b[39m(full_deck - all_used)\n\u001b[32m---> \u001b[39m\u001b[32m20\u001b[39m     \u001b[43mrandom\u001b[49m\u001b[43m.\u001b[49m\u001b[43mshuffle\u001b[49m\u001b[43m(\u001b[49m\u001b[43mdeck\u001b[49m\u001b[43m)\u001b[49m\n\u001b[32m     22\u001b[39m     opponents = []\n\u001b[32m     23\u001b[39m     used = \u001b[38;5;28mset\u001b[39m()\n",
      "\u001b[36mFile \u001b[39m\u001b[32m/usr/local/lib/python3.11/random.py:380\u001b[39m, in \u001b[36mRandom.shuffle\u001b[39m\u001b[34m(self, x)\u001b[39m\n\u001b[32m    377\u001b[39m \u001b[38;5;250m\u001b[39m\u001b[33;03m\"\"\"Shuffle list x in place, and return None.\"\"\"\u001b[39;00m\n\u001b[32m    379\u001b[39m randbelow = \u001b[38;5;28mself\u001b[39m._randbelow\n\u001b[32m--> \u001b[39m\u001b[32m380\u001b[39m \u001b[38;5;28;01mfor\u001b[39;00m i \u001b[38;5;129;01min\u001b[39;00m \u001b[38;5;28mreversed\u001b[39m(\u001b[38;5;28mrange\u001b[39m(\u001b[32m1\u001b[39m, \u001b[38;5;28mlen\u001b[39m(x))):\n\u001b[32m    381\u001b[39m     \u001b[38;5;66;03m# pick an element in x[:i+1] with which to exchange x[i]\u001b[39;00m\n\u001b[32m    382\u001b[39m     j = randbelow(i + \u001b[32m1\u001b[39m)\n\u001b[32m    383\u001b[39m     x[i], x[j] = x[j], x[i]\n",
      "\u001b[31mKeyboardInterrupt\u001b[39m: "
     ]
    }
   ],
   "source": [
    "import random\n",
    "import pandas as pd\n",
    "from treys import Card, Evaluator\n",
    "\n",
    "def get_random_hand(deck):\n",
    "    return [deck.pop(), deck.pop()]\n",
    "\n",
    "def get_random_flop(deck):\n",
    "    return [deck.pop(), deck.pop(), deck.pop()]\n",
    "\n",
    "def simulate_equity_vs_5(player_hand, flop, num_simulations=500):\n",
    "    evaluator = Evaluator()\n",
    "    win_count = 0\n",
    "\n",
    "    all_used = set(player_hand + flop)\n",
    "    full_deck = set(Card.new(rank + suit) for rank in '23456789TJQKA' for suit in 'shdc')\n",
    "\n",
    "    for _ in range(num_simulations):\n",
    "        deck = list(full_deck - all_used)\n",
    "        random.shuffle(deck)\n",
    "\n",
    "        opponents = []\n",
    "        used = set()\n",
    "        while len(opponents) < 5:\n",
    "            h1, h2 = deck.pop(), deck.pop()\n",
    "            if h1 not in used and h2 not in used:\n",
    "                opponents.append([h1, h2])\n",
    "                used.add(h1)\n",
    "                used.add(h2)\n",
    "\n",
    "        turn, river = deck.pop(), deck.pop()\n",
    "        board = flop + [turn, river]\n",
    "\n",
    "        all_hands = [player_hand] + opponents\n",
    "        scores = [evaluator.evaluate(board, hand) for hand in all_hands]\n",
    "        best_score = min(scores)\n",
    "        winners = [i for i, score in enumerate(scores) if score == best_score]\n",
    "\n",
    "        if 0 in winners:\n",
    "            win_count += 1 / len(winners)\n",
    "\n",
    "    return round(100 * win_count / num_simulations, 2)\n",
    "\n",
    "def card_to_str(card):\n",
    "    return Card.int_to_str(card)\n",
    "\n",
    "problems = []\n",
    "for _ in range(500):\n",
    "    ranks = '23456789TJQKA'\n",
    "    suits = 'shdc'\n",
    "    full_deck = [Card.new(r + s) for r in ranks for s in suits]\n",
    "    random.shuffle(full_deck)\n",
    "\n",
    "    player_hand = get_random_hand(full_deck)\n",
    "    flop = get_random_flop(full_deck)\n",
    "    equity = simulate_equity_vs_5(player_hand, flop, num_simulations=500)\n",
    "\n",
    "    problems.append({\n",
    "        \"PlayerCard1\": card_to_str(player_hand[0]),\n",
    "        \"PlayerCard2\": card_to_str(player_hand[1]),\n",
    "        \"FlopCard1\": card_to_str(flop[0]),\n",
    "        \"FlopCard2\": card_to_str(flop[1]),\n",
    "        \"FlopCard3\": card_to_str(flop[2]),\n",
    "        \"EquityPercent\": equity\n",
    "    })\n",
    "\n",
    "df = pd.DataFrame(problems)\n",
    "df.to_csv(\"poker_equity_problems.csv\", index=False)\n",
    "print(\"Saved to poker_equity_problems.csv\")\n"
   ]
  },
  {
   "cell_type": "code",
   "execution_count": 32,
   "id": "252b5afb",
   "metadata": {},
   "outputs": [],
   "source": [
    "df = pl.read_csv('poker_equity_problems.csv')"
   ]
  },
  {
   "cell_type": "code",
   "execution_count": 42,
   "id": "9ac38930",
   "metadata": {},
   "outputs": [],
   "source": [
    "row_num = random.randrange(0,500)"
   ]
  },
  {
   "cell_type": "code",
   "execution_count": 45,
   "id": "49162a87",
   "metadata": {},
   "outputs": [
    {
     "data": {
      "text/plain": [
       "'Tc.png'"
      ]
     },
     "execution_count": 45,
     "metadata": {},
     "output_type": "execute_result"
    }
   ],
   "source": [
    "df.row(row_num)[0]"
   ]
  },
  {
   "cell_type": "code",
   "execution_count": 46,
   "id": "68ddee49",
   "metadata": {},
   "outputs": [
    {
     "data": {
      "text/plain": [
       "'asdf123'"
      ]
     },
     "execution_count": 46,
     "metadata": {},
     "output_type": "execute_result"
    }
   ],
   "source": [
    "\"asdf\" + \"123\""
   ]
  },
  {
   "cell_type": "code",
   "execution_count": 5,
   "id": "71a14ec3",
   "metadata": {},
   "outputs": [],
   "source": [
    "import random\n",
    "from treys import Card, Deck, Evaluator\n",
    "\n",
    "def compute_equity(player_hand, flop_cards, num_simulations, num_opponents):\n",
    "    \"\"\"\n",
    "    Compute the equity of a hand using Monte Carlo simulation with treys.\n",
    "    \n",
    "    Parameters:\n",
    "    - player_hand: list of 2 card strings, e.g., ['As', 'Kd']\n",
    "    - flop_cards: list of 3 card strings, e.g., ['2h', '7c', 'Td']\n",
    "    - num_simulations: number of simulations to run\n",
    "    - num_opponents: number of opponents\n",
    "    \n",
    "    Returns:\n",
    "    - equity (float between 0 and 1)\n",
    "    \"\"\"\n",
    "    evaluator = Evaluator()\n",
    "    player_hand_int = [Card.new(card) for card in player_hand]\n",
    "    flop_int = [Card.new(card) for card in flop_cards]\n",
    "\n",
    "    wins = 0\n",
    "\n",
    "    for _ in range(num_simulations):\n",
    "        # Create and shuffle a fresh deck\n",
    "        deck = Deck()\n",
    "        \n",
    "        # Remove known cards\n",
    "        for card in player_hand_int + flop_int:\n",
    "            deck.cards.remove(card)\n",
    "\n",
    "        # Deal remaining board (2 more cards)\n",
    "        remaining_board = deck.draw(2)\n",
    "        board = flop_int + remaining_board\n",
    "\n",
    "        # Deal opponent hands\n",
    "        opponent_hands = [deck.draw(2) for _ in range(num_opponents)]\n",
    "\n",
    "        # Evaluate hands\n",
    "        player_score = evaluator.evaluate(board, player_hand_int)\n",
    "        best_opponent_score = min(evaluator.evaluate(board, opp_hand) for opp_hand in opponent_hands)\n",
    "\n",
    "        if player_score < best_opponent_score:\n",
    "            wins += 1\n",
    "        elif player_score == best_opponent_score:\n",
    "            wins += 0.5  # account for tie\n",
    "\n",
    "    equity = round((wins / num_simulations) * 100)\n",
    "    return equity\n"
   ]
  },
  {
   "cell_type": "code",
   "execution_count": 74,
   "id": "02da88fe",
   "metadata": {},
   "outputs": [
    {
     "data": {
      "text/plain": [
       "64"
      ]
     },
     "execution_count": 74,
     "metadata": {},
     "output_type": "execute_result"
    }
   ],
   "source": [
    "compute_equity(['3s','As'],['Ts','2s','Ad'],1000,5)"
   ]
  },
  {
   "cell_type": "code",
   "execution_count": 55,
   "id": "11753400",
   "metadata": {},
   "outputs": [],
   "source": [
    "## Extract data\n",
    "df = pl.read_csv('poker_equity_problems.csv')\n",
    "\n",
    "playercard1 = df.row(5)[0]\n",
    "playercard2 = df.row(5)[1]\n",
    "flop1 = df.row(5)[2]\n",
    "flop2 = df.row(5)[3]\n",
    "flop3 = df.row(5)[4]"
   ]
  },
  {
   "cell_type": "code",
   "execution_count": 57,
   "id": "74d50347",
   "metadata": {},
   "outputs": [
    {
     "data": {
      "text/plain": [
       "'Ad'"
      ]
     },
     "execution_count": 57,
     "metadata": {},
     "output_type": "execute_result"
    }
   ],
   "source": [
    "playercard1[:-4]"
   ]
  },
  {
   "cell_type": "code",
   "execution_count": 73,
   "id": "a886a10f",
   "metadata": {},
   "outputs": [
    {
     "data": {
      "text/plain": [
       "21"
      ]
     },
     "execution_count": 73,
     "metadata": {},
     "output_type": "execute_result"
    }
   ],
   "source": [
    "compute_equity([playercard1[:-4], playercard2[:-4]],\n",
    "               [flop1[:-4], flop2[:-4], flop3[:-4]],\n",
    "               1000,5\n",
    "               )"
   ]
  },
  {
   "cell_type": "code",
   "execution_count": 9,
   "id": "5c3be914",
   "metadata": {},
   "outputs": [
    {
     "name": "stdout",
     "output_type": "stream",
     "text": [
      "Total simulations: 990\n",
      "Wins: 813 (82.12%)\n",
      "Ties: 12 (1.21%)\n",
      "Losses: 165 (16.67%)\n",
      "Equity: 82.73%\n",
      "\n",
      "==================================================\n",
      "\n"
     ]
    }
   ],
   "source": [
    "from treys import Card, Evaluator, Deck\n",
    "from itertools import combinations\n",
    "\n",
    "def calculate_equity(my_hand, opponent_hand, flop):\n",
    "    \"\"\"\n",
    "    Calculate win probability in heads-up Texas Hold'em given hands and flop.\n",
    "    \n",
    "    Args:\n",
    "        my_hand: List of 2 card strings (e.g., ['As', 'Kh'])\n",
    "        opponent_hand: List of 2 card strings (e.g., ['Qd', '9c'])\n",
    "        flop: List of 3 card strings (e.g., ['Jh', 'Ts', '2d'])\n",
    "    \n",
    "    Returns:\n",
    "        dict: Contains win_rate, tie_rate, lose_rate, and total_simulations\n",
    "    \"\"\"\n",
    "    evaluator = Evaluator()\n",
    "    \n",
    "    # Convert card strings to Card objects\n",
    "    my_cards = [Card.new(card) for card in my_hand]\n",
    "    opponent_cards = [Card.new(card) for card in opponent_hand]\n",
    "    flop_cards = [Card.new(card) for card in flop]\n",
    "    \n",
    "    # Create deck and remove known cards\n",
    "    deck = Deck()\n",
    "    known_cards = my_cards + opponent_cards + flop_cards\n",
    "    remaining_cards = [card for card in deck.cards if card not in known_cards]\n",
    "    \n",
    "    wins = 0\n",
    "    ties = 0\n",
    "    losses = 0\n",
    "    total_simulations = 0\n",
    "    \n",
    "    # Generate all possible turn and river combinations\n",
    "    for turn_river in combinations(remaining_cards, 2):\n",
    "        turn, river = turn_river\n",
    "        board = flop_cards + [turn, river]\n",
    "        \n",
    "        # Evaluate both hands\n",
    "        my_score = evaluator.evaluate(board, my_cards)\n",
    "        opponent_score = evaluator.evaluate(board, opponent_cards)\n",
    "        \n",
    "        # Lower score is better in treys\n",
    "        if my_score < opponent_score:\n",
    "            wins += 1\n",
    "        elif my_score == opponent_score:\n",
    "            ties += 1\n",
    "        else:\n",
    "            losses += 1\n",
    "        \n",
    "        total_simulations += 1\n",
    "    \n",
    "    # Calculate proportions\n",
    "    win_rate = wins / total_simulations\n",
    "    tie_rate = ties / total_simulations\n",
    "    lose_rate = losses / total_simulations\n",
    "    \n",
    "    return {\n",
    "        'win_rate': win_rate,\n",
    "        'tie_rate': tie_rate,\n",
    "        'lose_rate': lose_rate,\n",
    "        'wins': wins,\n",
    "        'ties': ties,\n",
    "        'losses': losses,\n",
    "        'total_simulations': total_simulations\n",
    "    }\n",
    "\n",
    "def print_equity_results(results):\n",
    "    \"\"\"Helper function to nicely print the equity results\"\"\"\n",
    "    print(f\"Total simulations: {results['total_simulations']}\")\n",
    "    print(f\"Wins: {results['wins']} ({results['win_rate']:.2%})\")\n",
    "    print(f\"Ties: {results['ties']} ({results['tie_rate']:.2%})\")\n",
    "    print(f\"Losses: {results['losses']} ({results['lose_rate']:.2%})\")\n",
    "    print(f\"Equity: {results['win_rate'] + results['tie_rate']/2:.2%}\")\n",
    "\n",
    "# Example usage\n",
    "if __name__ == \"__main__\":\n",
    "    # Example: Pocket Aces vs Pocket Kings on a rainbow flop\n",
    "    my_hand = ['Ad', 'Kd']\n",
    "    opponent_hand = ['Ac', 'Qc'] \n",
    "    flop = ['As', '6c', '2h']\n",
    "    \n",
    "    results = calculate_equity(my_hand, opponent_hand, flop)\n",
    "    print_equity_results(results)\n",
    "    \n",
    "    print(\"\\n\" + \"=\"*50 + \"\\n\")\n"
   ]
  }
 ],
 "metadata": {
  "kernelspec": {
   "display_name": "Python 3",
   "language": "python",
   "name": "python3"
  },
  "language_info": {
   "codemirror_mode": {
    "name": "ipython",
    "version": 3
   },
   "file_extension": ".py",
   "mimetype": "text/x-python",
   "name": "python",
   "nbconvert_exporter": "python",
   "pygments_lexer": "ipython3",
   "version": "3.11.12"
  }
 },
 "nbformat": 4,
 "nbformat_minor": 5
}
